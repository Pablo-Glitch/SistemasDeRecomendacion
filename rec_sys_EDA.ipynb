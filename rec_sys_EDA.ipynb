{
 "cells": [
  {
   "cell_type": "markdown",
   "metadata": {
    "slideshow": {
     "slide_type": "slide"
    }
   },
   "source": [
    "# Práctico: Recomendación de Artistas\n",
    "\n",
    "En este práctico trabajaremos con el conjuto de datos de [LastFM](https://grouplens.org/datasets/hetrec-2011/) para el desarrollo de un sistema de recomendación que, dado el nombre de un artista musical, devuelve una lista de artistas \"similares\".\n",
    "\n",
    "Para el práctico utilizaremos el conjunto de datos de LastFM que consiguieron del [notebook de instalación](./instalacion.ipynb). Se recomienda leer el [Readme](http://files.grouplens.org/datasets/hetrec2011/hetrec2011-lastfm-readme.txt) de los datos para saber más sobre que información contiene cada archivo."
   ]
  },
  {
   "cell_type": "code",
   "execution_count": 1,
   "metadata": {},
   "outputs": [],
   "source": [
    "import pandas as pd\n",
    "import seaborn as sns\n",
    "import matplotlib.pyplot as plt"
   ]
  },
  {
   "cell_type": "code",
   "execution_count": 2,
   "metadata": {},
   "outputs": [],
   "source": [
    "#This file contains information about music artists listened and tagged by the users.\n",
    "artist_data = pd.read_csv(\"../data/lastfm/artists.dat\", sep=\"\\t\")\n",
    "\n",
    "#This file contains the set of tags available in the dataset (ojo con el enconding en este!)\n",
    "user_tags = pd.read_csv(\"../data/lastfm/tags.dat\", sep=\"\\t\", encoding='latin-1')\n",
    "\n",
    "#This file contains the artists listened by each user.\n",
    "#It also provides a listening count for each [user, artist] pair.\n",
    "user_artists_plays = pd.read_csv(\"../data/lastfm/user_artists.dat\", sep=\"\\t\")\n",
    "\n",
    "#These files contain the tag assignments of artists provided by each particular user. \n",
    "#They also contain the timestamps when the tag assignments were done.\n",
    "user_tag_artists = pd.read_csv(\"../data/lastfm/user_taggedartists.dat\", sep=\"\\t\")\n",
    "user_tag_artists_time = pd.read_csv(\"../data/lastfm/user_taggedartists-timestamps.dat\", sep=\"\\t\")\n",
    "\n",
    "#These files contain the friend relations between users in the database.\n",
    "user_friends = pd.read_csv(\"../data/lastfm/user_friends.dat\", sep=\"\\t\")"
   ]
  },
  {
   "cell_type": "code",
   "execution_count": 3,
   "metadata": {},
   "outputs": [
    {
     "name": "stdout",
     "output_type": "stream",
     "text": [
      "<class 'pandas.core.frame.DataFrame'>\n",
      "RangeIndex: 11946 entries, 0 to 11945\n",
      "Data columns (total 2 columns):\n",
      " #   Column    Non-Null Count  Dtype \n",
      "---  ------    --------------  ----- \n",
      " 0   tagID     11946 non-null  int64 \n",
      " 1   tagValue  11946 non-null  object\n",
      "dtypes: int64(1), object(1)\n",
      "memory usage: 186.8+ KB\n"
     ]
    }
   ],
   "source": [
    "#artist_data.info()\n",
    "user_tags.info()\n",
    "#user_artist_plays.info()\n",
    "#user_tag_artists.info()\n",
    "#user_friends.info()"
   ]
  },
  {
   "cell_type": "markdown",
   "metadata": {},
   "source": [
    "## Ejercicio 1 - Análisis Exploratorio de Datos\n",
    "\n",
    "En esta primera parte deberán hacer un análisis exploratorio de los datos, aprovechando toda la información brindada por el conjunto. A partir de eso podrán tener mayor idea de qué tipo de datos estarán enfrentando (describe o hist).\n",
    "\n",
    "Algunas preguntas para responder:\n",
    "- ¿Cuáles son los artistas que fueron más escuchados?\n",
    "- ¿Cómo es la distribución de cantidad de listens por user?\n",
    "- ¿Es posible ver el género más escuchado?"
   ]
  },
  {
   "cell_type": "markdown",
   "metadata": {},
   "source": [
    "#### Artistas más escuchados"
   ]
  },
  {
   "cell_type": "markdown",
   "metadata": {},
   "source": [
    "Vamos a crear una variable nueva **user_count** que nos dice cuántos usuarios escucharon a cada artista.  \n",
    "La variable **weight** se le asigna a cada artista y es la sumatoria de todas las escuchas de un conjunto de usuarios\n",
    "para cada artista.  \n",
    "Luego crearemos dos variables más a partir de las dos anteriores: **count_range** **weight_range**. Estas variables agrupan \n",
    "en 4 grupos cada una a cada artista en función de **user_ count** y **weight**, y nos permiten visualizar cómo se distribuye los diversos valores en el conjunto de información \n"
   ]
  },
  {
   "cell_type": "code",
   "execution_count": 5,
   "metadata": {},
   "outputs": [
    {
     "data": {
      "text/plain": [
       "count     92834.00000\n",
       "mean        745.24393\n",
       "std        3751.32208\n",
       "min           1.00000\n",
       "25%         107.00000\n",
       "50%         260.00000\n",
       "75%         614.00000\n",
       "max      352698.00000\n",
       "Name: weight, dtype: float64"
      ]
     },
     "execution_count": 5,
     "metadata": {},
     "output_type": "execute_result"
    }
   ],
   "source": [
    "user_artists_plays['weight'].describe()"
   ]
  },
  {
   "cell_type": "code",
   "execution_count": 9,
   "metadata": {},
   "outputs": [
    {
     "data": {
      "text/html": [
       "<div>\n",
       "<style scoped>\n",
       "    .dataframe tbody tr th:only-of-type {\n",
       "        vertical-align: middle;\n",
       "    }\n",
       "\n",
       "    .dataframe tbody tr th {\n",
       "        vertical-align: top;\n",
       "    }\n",
       "\n",
       "    .dataframe thead th {\n",
       "        text-align: right;\n",
       "    }\n",
       "</style>\n",
       "<table border=\"1\" class=\"dataframe\">\n",
       "  <thead>\n",
       "    <tr style=\"text-align: right;\">\n",
       "      <th></th>\n",
       "      <th>artistID</th>\n",
       "      <th>weight</th>\n",
       "      <th>user_count</th>\n",
       "      <th>count_range</th>\n",
       "      <th>weight_range</th>\n",
       "    </tr>\n",
       "  </thead>\n",
       "  <tbody>\n",
       "    <tr>\n",
       "      <th>0</th>\n",
       "      <td>1</td>\n",
       "      <td>771</td>\n",
       "      <td>3</td>\n",
       "      <td>(0, 20]</td>\n",
       "      <td>(50, 1000]</td>\n",
       "    </tr>\n",
       "    <tr>\n",
       "      <th>1</th>\n",
       "      <td>2</td>\n",
       "      <td>8012</td>\n",
       "      <td>12</td>\n",
       "      <td>(0, 20]</td>\n",
       "      <td>(1000, 10000]</td>\n",
       "    </tr>\n",
       "    <tr>\n",
       "      <th>2</th>\n",
       "      <td>3</td>\n",
       "      <td>775</td>\n",
       "      <td>3</td>\n",
       "      <td>(0, 20]</td>\n",
       "      <td>(50, 1000]</td>\n",
       "    </tr>\n",
       "    <tr>\n",
       "      <th>3</th>\n",
       "      <td>4</td>\n",
       "      <td>563</td>\n",
       "      <td>2</td>\n",
       "      <td>(0, 20]</td>\n",
       "      <td>(50, 1000]</td>\n",
       "    </tr>\n",
       "    <tr>\n",
       "      <th>4</th>\n",
       "      <td>5</td>\n",
       "      <td>913</td>\n",
       "      <td>2</td>\n",
       "      <td>(0, 20]</td>\n",
       "      <td>(50, 1000]</td>\n",
       "    </tr>\n",
       "  </tbody>\n",
       "</table>\n",
       "</div>"
      ],
      "text/plain": [
       "   artistID  weight  user_count count_range   weight_range\n",
       "0         1     771           3     (0, 20]     (50, 1000]\n",
       "1         2    8012          12     (0, 20]  (1000, 10000]\n",
       "2         3     775           3     (0, 20]     (50, 1000]\n",
       "3         4     563           2     (0, 20]     (50, 1000]\n",
       "4         5     913           2     (0, 20]     (50, 1000]"
      ]
     },
     "execution_count": 9,
     "metadata": {},
     "output_type": "execute_result"
    }
   ],
   "source": [
    "escuchas_artistas = user_artists_plays['artistID'].value_counts()\n",
    "df_val_counts = pd.DataFrame(escuchas_artistas).sort_index().rename(columns={'artistID': 'value_counts'})\n",
    "user_artist_plays_sorted = user_artists_plays.groupby(['artistID']).sum()\n",
    "user_artist_plays_sorted['user_count'] = df_val_counts['value_counts']\n",
    "user_artist_plays_sorted.reset_index(inplace=True)\n",
    "#armamos un dataset con el feature nuevo user_count\n",
    "df_user_artist_plays = user_artist_plays_sorted.drop(['userID'], axis=1)\n",
    "#agregamos bins sobre el feature user_count\n",
    "df_user_artist_plays['count_range'] = pd.cut(df_user_artist_plays['user_count'], [0,20, 50, 100,200,700])\n",
    "df_user_artist_plays['weight_range'] = pd.cut(df_user_artist_plays['weight'], [0,20,50, 1000,10000,3000000])\n",
    "df_user_artist_plays.head()\n"
   ]
  },
  {
   "cell_type": "code",
   "execution_count": 8,
   "metadata": {},
   "outputs": [
    {
     "data": {
      "text/plain": [
       "<matplotlib.axes._subplots.AxesSubplot at 0x12cc0975ac8>"
      ]
     },
     "execution_count": 8,
     "metadata": {},
     "output_type": "execute_result"
    },
    {
     "data": {
      "image/png": "[encoded data removed]",
      "text/plain": [
       "<Figure size 504x216 with 1 Axes>"
      ]
     },
     "metadata": {
      "needs_background": "light"
     },
     "output_type": "display_data"
    }
   ],
   "source": [
    "f, ax = plt.subplots(figsize=(7, 3))\n",
    "sns.countplot(y='weight_range', data=df_user_artist_plays, color=\"c\")"
   ]
  },
  {
   "cell_type": "code",
   "execution_count": 10,
   "metadata": {},
   "outputs": [
    {
     "data": {
      "text/plain": [
       "<matplotlib.axes._subplots.AxesSubplot at 0x12cc0a05148>"
      ]
     },
     "execution_count": 10,
     "metadata": {},
     "output_type": "execute_result"
    },
    {
     "data": {
      "image/png": "[encoded data removed]",
      "text/plain": [
       "<Figure size 504x216 with 1 Axes>"
      ]
     },
     "metadata": {
      "needs_background": "light"
     },
     "output_type": "display_data"
    }
   ],
   "source": [
    "f, ax = plt.subplots(figsize=(7, 3))\n",
    "sns.countplot(y='count_range', data=df_user_artist_plays, color=\"r\")"
   ]
  },
  {
   "cell_type": "markdown",
   "metadata": {},
   "source": [
    "Hay dos **datos interesantes** que obtenemos a partir de estos gráficos:  \n",
    "a. la mayor masa de peso (**weitght_range**) asociado a artistas se concentra entre los 50 y los 1000 puntos;  \n",
    "b. la mayor parte de los artistas (**count_range**) es escuchado por menos de 20 usuarios (de hecho, la mayoría solo es escuchado por 1 usuario);  "
   ]
  },
  {
   "cell_type": "markdown",
   "metadata": {},
   "source": [
    "A continuación analizamos los artistas más escuchados utilizando dos variables: **weight** y **user_count**"
   ]
  },
  {
   "cell_type": "code",
   "execution_count": 28,
   "metadata": {},
   "outputs": [
    {
     "data": {
      "text/plain": [
       "(array([0, 1, 2, 3, 4]), <a list of 5 Text major ticklabel objects>)"
      ]
     },
     "execution_count": 28,
     "metadata": {},
     "output_type": "execute_result"
    },
    {
     "data": {
      "image/png": "[encoded data removed]",
      "text/plain": [
       "<Figure size 504x216 with 1 Axes>"
      ]
     },
     "metadata": {
      "needs_background": "light"
     },
     "output_type": "display_data"
    }
   ],
   "source": [
    "df_user_artist_plays['artist_name'] = artist_data['name']\n",
    "most_play_artist_user= df_user_artist_plays.sort_values(by=['user_count'], ascending=False)\n",
    "\n",
    "f, ax = plt.subplots(figsize=(7, 3))\n",
    "sns.barplot(x=\"artist_name\", y=\"user_count\", data=most_play_artist_user.iloc[0:5, :],\n",
    "            label=\"Total\", color=\"r\")\n",
    "plt.xticks(rotation=70)"
   ]
  },
  {
   "cell_type": "code",
   "execution_count": 26,
   "metadata": {},
   "outputs": [
    {
     "data": {
      "text/plain": [
       "(array([0, 1, 2, 3, 4]), <a list of 5 Text major ticklabel objects>)"
      ]
     },
     "execution_count": 26,
     "metadata": {},
     "output_type": "execute_result"
    },
    {
     "data": {
      "image/png": "[encoded data removed]",
      "text/plain": [
       "<Figure size 504x216 with 1 Axes>"
      ]
     },
     "metadata": {
      "needs_background": "light"
     },
     "output_type": "display_data"
    }
   ],
   "source": [
    "most_play_artist_weight= df_user_artist_plays.sort_values(by=['weight'], ascending=False)\n",
    "f, ax = plt.subplots(figsize=(7, 3))\n",
    "sns.set_color_codes('pastel')\n",
    "sns.barplot(x=\"artist_name\", y=\"weight\", data=most_play_artist_weight.iloc[0:5, :],\n",
    "            label=\"Total\", color=\"g\")\n",
    "plt.xticks(rotation=70)"
   ]
  },
  {
   "cell_type": "markdown",
   "metadata": {},
   "source": [
    "A partir de los últimos gráficos podemos decir que en este punto es determinante qué variable vamos a considerar para elegir a los artístas más escuchados, dado que, como vemos, aquellos que tienen mayor cantidad de usuarios no coinciden con aquellos que poseen más peso en las escuchas de usuarios en la global."
   ]
  },
  {
   "cell_type": "markdown",
   "metadata": {},
   "source": [
    "#### Distribución de cantidad de listens por usuarios"
   ]
  },
  {
   "cell_type": "markdown",
   "metadata": {},
   "source": [
    "Filtramos el dataset con la información de cada usuario y la cantidad de listens (nos quedamos con las variables **userID** y **weight**). Lo que queremos ver es la distribución de la cantidad total de listens por usuarios en el dataset."
   ]
  },
  {
   "cell_type": "code",
   "execution_count": 11,
   "metadata": {},
   "outputs": [
    {
     "data": {
      "text/html": [
       "<div>\n",
       "<style scoped>\n",
       "    .dataframe tbody tr th:only-of-type {\n",
       "        vertical-align: middle;\n",
       "    }\n",
       "\n",
       "    .dataframe tbody tr th {\n",
       "        vertical-align: top;\n",
       "    }\n",
       "\n",
       "    .dataframe thead th {\n",
       "        text-align: right;\n",
       "    }\n",
       "</style>\n",
       "<table border=\"1\" class=\"dataframe\">\n",
       "  <thead>\n",
       "    <tr style=\"text-align: right;\">\n",
       "      <th></th>\n",
       "      <th>userID</th>\n",
       "      <th>weight</th>\n",
       "    </tr>\n",
       "  </thead>\n",
       "  <tbody>\n",
       "    <tr>\n",
       "      <th>705</th>\n",
       "      <td>757</td>\n",
       "      <td>480039</td>\n",
       "    </tr>\n",
       "    <tr>\n",
       "      <th>1802</th>\n",
       "      <td>2000</td>\n",
       "      <td>468409</td>\n",
       "    </tr>\n",
       "    <tr>\n",
       "      <th>1280</th>\n",
       "      <td>1418</td>\n",
       "      <td>416349</td>\n",
       "    </tr>\n",
       "    <tr>\n",
       "      <th>1482</th>\n",
       "      <td>1642</td>\n",
       "      <td>388251</td>\n",
       "    </tr>\n",
       "    <tr>\n",
       "      <th>1002</th>\n",
       "      <td>1094</td>\n",
       "      <td>379125</td>\n",
       "    </tr>\n",
       "  </tbody>\n",
       "</table>\n",
       "</div>"
      ],
      "text/plain": [
       "      userID  weight\n",
       "705      757  480039\n",
       "1802    2000  468409\n",
       "1280    1418  416349\n",
       "1482    1642  388251\n",
       "1002    1094  379125"
      ]
     },
     "execution_count": 11,
     "metadata": {},
     "output_type": "execute_result"
    }
   ],
   "source": [
    "df_listens_per_users = user_artists_plays.drop(['artistID'], axis=1)\n",
    "df_listens_per_users = df_listens_per_users.groupby(['userID']).sum().reset_index()\n",
    "df_listens_per_users.sort_values(by=['weight'], ascending=False).head()"
   ]
  },
  {
   "cell_type": "code",
   "execution_count": 11,
   "metadata": {},
   "outputs": [
    {
     "data": {
      "text/plain": [
       "<matplotlib.axes._subplots.AxesSubplot at 0x1810ce1c788>"
      ]
     },
     "execution_count": 11,
     "metadata": {},
     "output_type": "execute_result"
    },
    {
     "data": {
      "image/png": "[encoded data removed]",
      "text/plain": [
       "<Figure size 432x288 with 1 Axes>"
      ]
     },
     "metadata": {
      "needs_background": "light"
     },
     "output_type": "display_data"
    }
   ],
   "source": [
    "bins_list = [0, 10000, 25000, 50000, 100000, 200000, 300000, 400000, 500000]\n",
    "sns.distplot(df_listens_per_users['weight'], bins=bins_list, kde=False)"
   ]
  },
  {
   "cell_type": "markdown",
   "metadata": {},
   "source": [
    "El gráfico muestra que claramente la mayor parte de la masa de instancias de listens se congrega en entre en el intervalo que va de 0 a 25000. Esto lo podemos analizar con los siguientes estadísticos."
   ]
  },
  {
   "cell_type": "code",
   "execution_count": 12,
   "metadata": {},
   "outputs": [
    {
     "data": {
      "text/plain": [
       "count      1892.000000\n",
       "mean      36566.582981\n",
       "std       48744.552394\n",
       "min           3.000000\n",
       "25%        9742.250000\n",
       "50%       21573.000000\n",
       "75%       42963.750000\n",
       "max      480039.000000\n",
       "Name: weight, dtype: float64"
      ]
     },
     "execution_count": 12,
     "metadata": {},
     "output_type": "execute_result"
    }
   ],
   "source": [
    "df_listens_per_users['weight'].describe()"
   ]
  },
  {
   "cell_type": "markdown",
   "metadata": {},
   "source": [
    "Si bien el 75% de las instancias se encuentran debajo de los 43000 listens, aun así el promedio se ubica en 36000. Esto se debe a la cantidad de listens que aglomeran el 25% de las intancias con los valores más altos, algo que no debemos ignorar. Si fueran outliers podríamos simplemente limpiarlos o procesarlos de alguna forma, pero cabe preguntarse si ese mismo tratamiento puede realizarse sin más en este dataset."
   ]
  },
  {
   "cell_type": "markdown",
   "metadata": {},
   "source": [
    "#### Géneros musicales más escuchados"
   ]
  },
  {
   "cell_type": "markdown",
   "metadata": {},
   "source": [
    "¿Podemos obtener de la información en los datasets los géneros más escuchados? Poseemos un conjunto de datos donde los usuarios han etiquetado los estilos asociados a cada artista (**user_tag_artists**). Asumimos que han escuchado a estos artistas.  \n",
    "La pregunta es ¿cómo usamos estas etiquetas? Hay dos posibilidades: o bien realizamos un conteo de aquellas etiquetas que aparecen más (esto sería asumir una relación lineal entre cantidad de tags igual a cantidad de escuchas) o podríamos hacer un esfuerzo en cruzar los tags más comúnes con los artistas más escuchados. La idea es que si encontramos cómo se distribuyen lso géneros en los artistas con mayor masa de escuchas, tenemos una buena idea de cuáles son los géneros más escuchados.  \n",
    "Asignamos a una nueva variable **df_tags** el dataset **user_tag_artists** con la variable agregada **tagValue** para saber cuál es el estilo en cuestión. Luego asignamos a la variable  **df_tags_counts** un dataset con el conteo de tags."
   ]
  },
  {
   "cell_type": "code",
   "execution_count": 30,
   "metadata": {
    "scrolled": true
   },
   "outputs": [
    {
     "data": {
      "text/html": [
       "<div>\n",
       "<style scoped>\n",
       "    .dataframe tbody tr th:only-of-type {\n",
       "        vertical-align: middle;\n",
       "    }\n",
       "\n",
       "    .dataframe tbody tr th {\n",
       "        vertical-align: top;\n",
       "    }\n",
       "\n",
       "    .dataframe thead th {\n",
       "        text-align: right;\n",
       "    }\n",
       "</style>\n",
       "<table border=\"1\" class=\"dataframe\">\n",
       "  <thead>\n",
       "    <tr style=\"text-align: right;\">\n",
       "      <th></th>\n",
       "      <th>userID</th>\n",
       "      <th>artistID</th>\n",
       "      <th>tagID</th>\n",
       "      <th>day</th>\n",
       "      <th>month</th>\n",
       "      <th>year</th>\n",
       "      <th>tagValue</th>\n",
       "    </tr>\n",
       "  </thead>\n",
       "  <tbody>\n",
       "    <tr>\n",
       "      <th>0</th>\n",
       "      <td>2</td>\n",
       "      <td>52</td>\n",
       "      <td>13</td>\n",
       "      <td>1</td>\n",
       "      <td>4</td>\n",
       "      <td>2009</td>\n",
       "      <td>chillout</td>\n",
       "    </tr>\n",
       "    <tr>\n",
       "      <th>1</th>\n",
       "      <td>2</td>\n",
       "      <td>52</td>\n",
       "      <td>15</td>\n",
       "      <td>1</td>\n",
       "      <td>4</td>\n",
       "      <td>2009</td>\n",
       "      <td>downtempo</td>\n",
       "    </tr>\n",
       "    <tr>\n",
       "      <th>2</th>\n",
       "      <td>2</td>\n",
       "      <td>52</td>\n",
       "      <td>18</td>\n",
       "      <td>1</td>\n",
       "      <td>4</td>\n",
       "      <td>2009</td>\n",
       "      <td>electronic</td>\n",
       "    </tr>\n",
       "    <tr>\n",
       "      <th>3</th>\n",
       "      <td>2</td>\n",
       "      <td>52</td>\n",
       "      <td>21</td>\n",
       "      <td>1</td>\n",
       "      <td>4</td>\n",
       "      <td>2009</td>\n",
       "      <td>trip-hop</td>\n",
       "    </tr>\n",
       "    <tr>\n",
       "      <th>4</th>\n",
       "      <td>2</td>\n",
       "      <td>52</td>\n",
       "      <td>41</td>\n",
       "      <td>1</td>\n",
       "      <td>4</td>\n",
       "      <td>2009</td>\n",
       "      <td>female vovalists</td>\n",
       "    </tr>\n",
       "  </tbody>\n",
       "</table>\n",
       "</div>"
      ],
      "text/plain": [
       "   userID  artistID  tagID  day  month  year          tagValue\n",
       "0       2        52     13    1      4  2009          chillout\n",
       "1       2        52     15    1      4  2009         downtempo\n",
       "2       2        52     18    1      4  2009        electronic\n",
       "3       2        52     21    1      4  2009          trip-hop\n",
       "4       2        52     41    1      4  2009  female vovalists"
      ]
     },
     "execution_count": 30,
     "metadata": {},
     "output_type": "execute_result"
    }
   ],
   "source": [
    "df_tags = pd.merge(user_tag_artists, user_tags, how='left', on=['tagID', 'tagID'])\n",
    "df_tags.head()"
   ]
  },
  {
   "cell_type": "code",
   "execution_count": 29,
   "metadata": {},
   "outputs": [
    {
     "data": {
      "text/html": [
       "<div>\n",
       "<style scoped>\n",
       "    .dataframe tbody tr th:only-of-type {\n",
       "        vertical-align: middle;\n",
       "    }\n",
       "\n",
       "    .dataframe tbody tr th {\n",
       "        vertical-align: top;\n",
       "    }\n",
       "\n",
       "    .dataframe thead th {\n",
       "        text-align: right;\n",
       "    }\n",
       "</style>\n",
       "<table border=\"1\" class=\"dataframe\">\n",
       "  <thead>\n",
       "    <tr style=\"text-align: right;\">\n",
       "      <th></th>\n",
       "      <th>tagID</th>\n",
       "      <th>tag_counts</th>\n",
       "      <th>tagValue</th>\n",
       "    </tr>\n",
       "  </thead>\n",
       "  <tbody>\n",
       "    <tr>\n",
       "      <th>71</th>\n",
       "      <td>73</td>\n",
       "      <td>7503</td>\n",
       "      <td>rock</td>\n",
       "    </tr>\n",
       "    <tr>\n",
       "      <th>23</th>\n",
       "      <td>24</td>\n",
       "      <td>5418</td>\n",
       "      <td>pop</td>\n",
       "    </tr>\n",
       "    <tr>\n",
       "      <th>77</th>\n",
       "      <td>79</td>\n",
       "      <td>5251</td>\n",
       "      <td>alternative</td>\n",
       "    </tr>\n",
       "    <tr>\n",
       "      <th>17</th>\n",
       "      <td>18</td>\n",
       "      <td>4672</td>\n",
       "      <td>electronic</td>\n",
       "    </tr>\n",
       "    <tr>\n",
       "      <th>79</th>\n",
       "      <td>81</td>\n",
       "      <td>4458</td>\n",
       "      <td>indie</td>\n",
       "    </tr>\n",
       "  </tbody>\n",
       "</table>\n",
       "</div>"
      ],
      "text/plain": [
       "    tagID  tag_counts     tagValue\n",
       "71     73        7503         rock\n",
       "23     24        5418          pop\n",
       "77     79        5251  alternative\n",
       "17     18        4672   electronic\n",
       "79     81        4458        indie"
      ]
     },
     "execution_count": 29,
     "metadata": {},
     "output_type": "execute_result"
    }
   ],
   "source": [
    "tag_counts = user_tag_artists['tagID'].value_counts()\n",
    "df_tags_counts = pd.DataFrame(tag_counts).sort_index().rename(columns={'tagID': 'tag_counts'})\n",
    "df_tags_counts = df_tags_counts.reset_index().rename(columns={'index': 'tagID'})\n",
    "df_tags_counts = pd.merge(df_tags_counts, user_tags,how='left', on=['tagID', 'tagID'] ).sort_values(by=['tag_counts'], ascending=False) \n",
    "df_tags_counts.head()"
   ]
  },
  {
   "cell_type": "code",
   "execution_count": 23,
   "metadata": {},
   "outputs": [
    {
     "data": {
      "text/plain": [
       "(array([0, 1, 2, 3, 4, 5, 6, 7, 8, 9]),\n",
       " <a list of 10 Text major ticklabel objects>)"
      ]
     },
     "execution_count": 23,
     "metadata": {},
     "output_type": "execute_result"
    },
    {
     "data": {
      "image/png": "[encoded data removed]",
      "text/plain": [
       "<Figure size 504x216 with 1 Axes>"
      ]
     },
     "metadata": {
      "needs_background": "light"
     },
     "output_type": "display_data"
    }
   ],
   "source": [
    "f, ax = plt.subplots(figsize=(7, 3))\n",
    "sns.set_color_codes('pastel')\n",
    "sns.barplot(x=\"tagValue\", y=\"tag_counts\", data=df_tags_counts.iloc[0:10, :],\n",
    "            label=\"Total\", color=\"m\")\n",
    "plt.xticks(rotation=70)"
   ]
  },
  {
   "cell_type": "markdown",
   "metadata": {},
   "source": [
    "En el gráfico podemos observar los 10 tags de géneros musicales más utilizados o \"marcados\" por usuarios.  \n",
    "¿Es esto realmente representativo de los géneros más escuchados?\n",
    "Podría ser el caso que un solo usuario hubiera tageado a una gran cantidad de artistas con un género de manera deliberada y malintencionada.  \n",
    "Supongamos que 100 usuarios se hubieran puesto en campaña de taggear a todo lo que se les cruzara como \"alternative\". Le tomaría etiquetar a 100 artistas distintos cada uno para generar una muestra de 10000 tags! Este sería un escenario en el que menos del 7% de los usuarios que tagearan a menos de 7% de los artistas lograrían sesgar nuestra percepción acerca del género más escuchado."
   ]
  },
  {
   "cell_type": "code",
   "execution_count": null,
   "metadata": {},
   "outputs": [],
   "source": []
  }
 ],
 "metadata": {
  "kernelspec": {
   "display_name": "Python 3",
   "language": "python",
   "name": "python3"
  },
  "language_info": {
   "codemirror_mode": {
    "name": "ipython",
    "version": 3
   },
   "file_extension": ".py",
   "mimetype": "text/x-python",
   "name": "python",
   "nbconvert_exporter": "python",
   "pygments_lexer": "ipython3",
   "version": "3.7.7"
  },
  "rise": {
   "scroll": true
  }
 },
 "nbformat": 4,
 "nbformat_minor": 2
}
